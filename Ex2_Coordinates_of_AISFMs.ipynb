{
 "cells": [
  {
   "cell_type": "markdown",
   "metadata": {},
   "source": [
    "# Coordinates of the AISFMs\n",
    "\n",
    "\n",
    "This example shows how to get locations of the STEREOs from the corresponding our AI-generated Solar Farside Magnetograms (AISFMs).\n",
    "\n",
    "Here we use [Matplotlib](https://matplotlib.org), [Astropy](https://www.astropy.org), and [SunPy](https://sunpy.org) modules."
   ]
  },
  {
   "cell_type": "code",
   "execution_count": 1,
   "metadata": {},
   "outputs": [],
   "source": [
    "import matplotlib.pyplot as plt\n",
    "\n",
    "from astropy.coordinates import SkyCoord\n",
    "from astropy.io import fits\n",
    "import astropy.units as u\n",
    "\n",
    "from sunpy.coordinates import get_body_heliographic_stonyhurst"
   ]
  },
  {
   "cell_type": "markdown",
   "metadata": {},
   "source": [
    "\n",
    "We start with a sample data obtained from the [KDC for SDO](http://sdo.kasi.re.kr/) website."
   ]
  },
  {
   "cell_type": "code",
   "execution_count": 2,
   "metadata": {},
   "outputs": [
    {
     "name": "stdout",
     "output_type": "stream",
     "text": [
      "Filename: ./Sample_AISFMs/aisfm_v3_stereo_b_20110305_120403.fits\n",
      "No.    Name      Ver    Type      Cards   Dimensions   Format\n",
      "  0  PRIMARY       1 PrimaryHDU      53   (1024, 1024)   float32   \n"
     ]
    }
   ],
   "source": [
    "fits_aisfm = fits.open(\"./Sample_AISFMs/aisfm_v3_stereo_b_20110305_120403.fits\")\n",
    "\n",
    "fits_aisfm.info()"
   ]
  },
  {
   "cell_type": "code",
   "execution_count": 3,
   "metadata": {},
   "outputs": [],
   "source": [
    "data_aisfm = fits_aisfm[0].data\n",
    "header_aisfm = fits_aisfm[0].header\n",
    "\n",
    "fits_aisfm.close()\n",
    "\n",
    "# We can also use the SunPy's Map to open the AISFMs.\n",
    "#\n",
    "# > import sunpy.map \n",
    "#\n",
    "# > map_aisfm = sunpy.map.Map(\"./Sample_AISFMs/aisfm_v3_stereo_b_20110305_120403.fits\") \n",
    "# > data_aisfm = map_aisfm.data\n",
    "# > header_aisfm = map_aisfm.meta"
   ]
  },
  {
   "cell_type": "code",
   "execution_count": 4,
   "metadata": {},
   "outputs": [
    {
     "name": "stdout",
     "output_type": "stream",
     "text": [
      "* Spacecraft:  STEREO_B\n",
      "* Longitude:  -94.78223699235252  [degree]\n",
      "* Latitude:  1.076876540489728  [degree]\n",
      "* Distance:  152041499485  [meter]\n"
     ]
    }
   ],
   "source": [
    "SC_aisfm = header_aisfm[\"INPUTDAT\"]\n",
    "date_aisfm = header_aisfm['DATE-OBS']\n",
    "lon_aisfm = header_aisfm['HGLN_OBS']\n",
    "lat_aisfm = header_aisfm['HGLT_OBS']\n",
    "dist_aisfm = header_aisfm['DSUN_OBS']\n",
    "\n",
    "print(\"* Spacecraft: \", SC_aisfm)\n",
    "print(\"* Longitude: \", lon_aisfm, \" [degree]\")\n",
    "print(\"* Latitude: \", lat_aisfm, \" [degree]\")\n",
    "print(\"* Distance: \", dist_aisfm, \" [meter]\")"
   ]
  },
  {
   "cell_type": "code",
   "execution_count": 5,
   "metadata": {},
   "outputs": [
    {
     "data": {
      "text/plain": [
       "<SkyCoord (HeliographicStonyhurst: obstime=2011-03-05T12:04:03.000, rsun=695700.0 km): (lon, lat, radius) in (deg, deg, AU)\n",
       "    (-94.78223699, 1.07687654, 1.01633465)>"
      ]
     },
     "execution_count": 5,
     "metadata": {},
     "output_type": "execute_result"
    }
   ],
   "source": [
    "Coord_aisfm = SkyCoord(lon = lon_aisfm*u.deg,\n",
    "                       lat = lat_aisfm*u.deg, \n",
    "                       radius = (dist_aisfm*u.m).to(u.au),\n",
    "                       frame= 'heliographic_stonyhurst',\n",
    "                       obstime= date_aisfm)\n",
    "\n",
    "Coord_aisfm"
   ]
  },
  {
   "cell_type": "code",
   "execution_count": 6,
   "metadata": {},
   "outputs": [
    {
     "data": {
      "text/plain": [
       "<HeliographicStonyhurst Coordinate (obstime=2011-03-05T12:04:03.000, rsun=695700.0 km): (lon, lat, radius) in (deg, deg, AU)\n",
       "    (0., -7.25010988, 0.99180635)>"
      ]
     },
     "execution_count": 6,
     "metadata": {},
     "output_type": "execute_result"
    }
   ],
   "source": [
    "Coord_Earth = get_body_heliographic_stonyhurst('earth', time = date_aisfm)\n",
    "\n",
    "Coord_Earth"
   ]
  },
  {
   "cell_type": "markdown",
   "metadata": {},
   "source": [
    "\n",
    "We can plot the location of STEREO B with respect to the Sun."
   ]
  },
  {
   "cell_type": "code",
   "execution_count": 7,
   "metadata": {},
   "outputs": [
    {
     "data": {
      "image/png": "[encoded data removed]",
      "text/plain": [
       "<Figure size 432x288 with 1 Axes>"
      ]
     },
     "metadata": {
      "needs_background": "light"
     },
     "output_type": "display_data"
    }
   ],
   "source": [
    "fig = plt.figure()\n",
    "\n",
    "ax = plt.subplot(projection=\"polar\")\n",
    "ax.set_theta_zero_location(\"S\")\n",
    "\n",
    "#------------------------------------------------------------------\n",
    "ax.plot(Coord_aisfm.lon.to(\"rad\"), Coord_aisfm.radius,\n",
    "        'o', label=\"STEREO-B\")\n",
    "\n",
    "ax.plot(0, 0,\n",
    "        'o', label=\"Sun\")\n",
    "\n",
    "ax.plot(Coord_Earth.lon.to(\"rad\"), Coord_Earth.radius,\n",
    "        'o', label=\"Earth\")\n",
    "\n",
    "#------------------------------------------------------------------\n",
    "ax.set_rticks([0.5, 1])\n",
    "ax.set_rmax(1.5)\n",
    "\n",
    "ax.legend()\n",
    "plt.show()"
   ]
  },
  {
   "cell_type": "markdown",
   "metadata": {},
   "source": [
    "\n",
    "You can try more examples by following the [SunPy Example Gallery](https://docs.sunpy.org/en/stable/generated/gallery/index.html)."
   ]
  }
 ],
 "metadata": {
  "kernelspec": {
   "display_name": "hjjeong2",
   "language": "python",
   "name": "hjjeong2"
  },
  "language_info": {
   "codemirror_mode": {
    "name": "ipython",
    "version": 3
   },
   "file_extension": ".py",
   "mimetype": "text/x-python",
   "name": "python",
   "nbconvert_exporter": "python",
   "pygments_lexer": "ipython3",
   "version": "3.10.2"
  }
 },
 "nbformat": 4,
 "nbformat_minor": 2
}
