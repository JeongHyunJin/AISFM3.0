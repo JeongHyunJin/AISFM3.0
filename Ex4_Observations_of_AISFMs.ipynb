{
 "cells": [
  {
   "cell_type": "markdown",
   "metadata": {},
   "source": [
    "# Observations of the AISFMs\n",
    "\n",
    "\n",
    "This example shows how to check model inputs from the corresponding our AI-generated Solar Farside Magnetograms (AISFMs).\n",
    "\n",
    "Here we use [Matplotlib](https://matplotlib.org), [Astropy](https://www.astropy.org), and [SunPy](https://sunpy.org) modules."
   ]
  },
  {
   "cell_type": "code",
   "execution_count": 1,
   "metadata": {},
   "outputs": [],
   "source": [
    "import matplotlib.pyplot as plt\n",
    "\n",
    "import sunpy.map"
   ]
  },
  {
   "cell_type": "markdown",
   "metadata": {},
   "source": [
    "We start with a sample data obtained from the [KDC for SDO](http://sdo.kasi.re.kr/) website."
   ]
  },
  {
   "cell_type": "code",
   "execution_count": 2,
   "metadata": {},
   "outputs": [],
   "source": [
    "map_aisfm = sunpy.map.Map(\"./Sample_AISFMs/aisfm_v3_stereo_b_20110305_120403.fits\") \n",
    "\n",
    "header_aisfm = map_aisfm.meta\n",
    "\n",
    "# We can also use the astropy to open the AISFMs.\n",
    "#\n",
    "# > from astropy.io import fits\n",
    "#\n",
    "# > fits_aisfm = fits.open(\"./Sample_AISFMs/aisfm_v3_stereo_b_20110305_120403.fits\")\n",
    "# > fits_aisfm.info()\n",
    "#\n",
    "# > header_aisfm = fits_aisfm[0].header\n",
    "# > fits_aisfm.close()"
   ]
  },
  {
   "cell_type": "code",
   "execution_count": 3,
   "metadata": {},
   "outputs": [
    {
     "data": {
      "text/plain": [
       "'STEREO/EUVI-B_304a_2011-03-05T11:56:43,STEREO/EUVI-B_195a_2011-03-05T12:00:58,STEREO/EUVI-B_171a_2011-03-05T12:14:28,SDO/AIA_304a_2011-02-13T09:19:20,SDO/AIA_193a_2011-02-13T09:19:19,SDO/AIA_171a_2011-02-13T09:19:24,SDO/HMI_M720s_2011-02-13T10:34:12'"
      ]
     },
     "execution_count": 3,
     "metadata": {},
     "output_type": "execute_result"
    }
   ],
   "source": [
    "History_aisfm = header_aisfm[\"HISTORY\"]\n",
    "History_aisfm"
   ]
  },
  {
   "cell_type": "code",
   "execution_count": 4,
   "metadata": {},
   "outputs": [
    {
     "data": {
      "text/plain": [
       "['STEREO/EUVI-B_304a_2011-03-05T11:56:43',\n",
       " 'STEREO/EUVI-B_195a_2011-03-05T12:00:58',\n",
       " 'STEREO/EUVI-B_171a_2011-03-05T12:14:28',\n",
       " 'SDO/AIA_304a_2011-02-13T09:19:20',\n",
       " 'SDO/AIA_193a_2011-02-13T09:19:19',\n",
       " 'SDO/AIA_171a_2011-02-13T09:19:24',\n",
       " 'SDO/HMI_M720s_2011-02-13T10:34:12']"
      ]
     },
     "execution_count": 4,
     "metadata": {},
     "output_type": "execute_result"
    }
   ],
   "source": [
    "Model_inputs_aisfm = str(History_aisfm).replace('\\n','').split(',')\n",
    "Model_inputs_aisfm"
   ]
  },
  {
   "cell_type": "markdown",
   "metadata": {},
   "source": [
    "\n",
    "You can try more examples by following the [SunPy Example Gallery](https://docs.sunpy.org/en/stable/generated/gallery/index.html)."
   ]
  }
 ],
 "metadata": {
  "kernelspec": {
   "display_name": "hjjeong2",
   "language": "python",
   "name": "hjjeong2"
  },
  "language_info": {
   "codemirror_mode": {
    "name": "ipython",
    "version": 3
   },
   "file_extension": ".py",
   "mimetype": "text/x-python",
   "name": "python",
   "nbconvert_exporter": "python",
   "pygments_lexer": "ipython3",
   "version": "3.10.2"
  }
 },
 "nbformat": 4,
 "nbformat_minor": 2
}
